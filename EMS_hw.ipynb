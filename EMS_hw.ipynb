{
  "nbformat": 4,
  "nbformat_minor": 0,
  "metadata": {
    "colab": {
      "provenance": [],
      "authorship_tag": "ABX9TyPxYzIkoGNwFYlwDthECBWQ",
      "include_colab_link": true
    },
    "kernelspec": {
      "name": "python3",
      "display_name": "Python 3"
    },
    "language_info": {
      "name": "python"
    }
  },
  "cells": [
    {
      "cell_type": "markdown",
      "metadata": {
        "id": "view-in-github",
        "colab_type": "text"
      },
      "source": [
        "<a href=\"https://colab.research.google.com/github/SaChIn5419/Data-science-workshop-/blob/main/EMS_hw.ipynb\" target=\"_parent\"><img src=\"https://colab.research.google.com/assets/colab-badge.svg\" alt=\"Open In Colab\"/></a>"
      ]
    },
    {
      "cell_type": "code",
      "execution_count": 1,
      "metadata": {
        "id": "sZUyB9f4yJWT"
      },
      "outputs": [],
      "source": [
        "# Step 1: Plan the Data Storage\n",
        "# Initialize a dictionary to store employee data\n",
        "employees = {\n",
        "    101: {'name': 'Satya', 'age': 27, 'department': 'HR', 'salary': 50000},\n",
        "    102: {'name': 'Ravi', 'age': 30, 'department': 'IT', 'salary': 60000},\n",
        "    103: {'name': 'Anita', 'age': 25, 'department': 'Finance', 'salary': 55000}\n",
        "}\n"
      ]
    },
    {
      "cell_type": "code",
      "source": [
        "# Step 2: Define the Menu System\n",
        "def main_menu():\n",
        "    while True:\n",
        "        print(\"\\n--- Employee Management System ---\")\n",
        "        print(\"1. Add Employee\")\n",
        "        print(\"2. View All Employees\")\n",
        "        print(\"3. Search for Employee\")\n",
        "        print(\"4. Exit\")\n",
        "\n",
        "        choice = input(\"Enter your choice (1-4): \")\n",
        "\n",
        "        if choice == '1':\n",
        "            add_employee()\n",
        "        elif choice == '2':\n",
        "            view_employees()\n",
        "        elif choice == '3':\n",
        "            search_employee()\n",
        "        elif choice == '4':\n",
        "            print(\"Thank you for using the Employee Management System. Goodbye!\")\n",
        "            break\n",
        "        else:\n",
        "            print(\"Invalid choice! Please enter a valid option.\")\n"
      ],
      "metadata": {
        "id": "jr-RSC2SyQOF"
      },
      "execution_count": 2,
      "outputs": []
    },
    {
      "cell_type": "code",
      "source": [
        "# Step 3: Add Employee Functionality\n",
        "def add_employee():\n",
        "    try:\n",
        "        emp_id = int(input(\"Enter Employee ID: \"))\n",
        "        if emp_id in employees:\n",
        "            print(\"Employee ID already exists. Please enter a unique ID.\")\n",
        "            return\n",
        "        name = input(\"Enter Employee Name: \")\n",
        "        age = int(input(\"Enter Employee Age: \"))\n",
        "        department = input(\"Enter Employee Department: \")\n",
        "        salary = float(input(\"Enter Employee Monthly Salary: \"))\n",
        "\n",
        "        # Add employee to the dictionary\n",
        "        employees[emp_id] = {\n",
        "            'name': name,\n",
        "            'age': age,\n",
        "            'department': department,\n",
        "            'salary': salary\n",
        "        }\n",
        "        print(f\"Employee {name} added successfully!\")\n",
        "    except ValueError:\n",
        "        print(\"Invalid input. Please enter the correct data type.\")\n"
      ],
      "metadata": {
        "id": "bVfPB1dwyQKm"
      },
      "execution_count": 3,
      "outputs": []
    },
    {
      "cell_type": "code",
      "source": [
        "# Step 4: View All Employees\n",
        "def view_employees():\n",
        "    if not employees:\n",
        "        print(\"No employees available.\")\n",
        "        return\n",
        "\n",
        "    print(\"\\n--- Employee List ---\")\n",
        "    print(f\"{'ID':<10}{'Name':<15}{'Age':<10}{'Department':<15}{'Salary':<10}\")\n",
        "    print(\"-\" * 60)\n",
        "    for emp_id, details in employees.items():\n",
        "        print(f\"{emp_id:<10}{details['name']:<15}{details['age']:<10}{details['department']:<15}{details['salary']:<10.2f}\")\n"
      ],
      "metadata": {
        "id": "1pzh3o5SyQIZ"
      },
      "execution_count": 4,
      "outputs": []
    },
    {
      "cell_type": "code",
      "source": [
        "# Step 5: Search for an Employee by ID\n",
        "def search_employee():\n",
        "    try:\n",
        "        emp_id = int(input(\"Enter Employee ID to search: \"))\n",
        "        if emp_id in employees:\n",
        "            print(\"\\n--- Employee Details ---\")\n",
        "            print(f\"Name: {employees[emp_id]['name']}\")\n",
        "            print(f\"Age: {employees[emp_id]['age']}\")\n",
        "            print(f\"Department: {employees[emp_id]['department']}\")\n",
        "            print(f\"Salary: {employees[emp_id]['salary']}\")\n",
        "        else:\n",
        "            print(\"Employee not found.\")\n",
        "    except ValueError:\n",
        "        print(\"Invalid input. Please enter a numeric Employee ID.\")\n"
      ],
      "metadata": {
        "id": "26Q539fXyQGG"
      },
      "execution_count": 5,
      "outputs": []
    },
    {
      "cell_type": "code",
      "source": [
        "# Start the program\n",
        "if __name__ == \"__main__\":\n",
        "    main_menu()"
      ],
      "metadata": {
        "colab": {
          "base_uri": "https://localhost:8080/"
        },
        "id": "sz8bFIx-yQD_",
        "outputId": "c1461b84-279d-4850-8b9e-f7d0feebc589"
      },
      "execution_count": 7,
      "outputs": [
        {
          "output_type": "stream",
          "name": "stdout",
          "text": [
            "\n",
            "--- Employee Management System ---\n",
            "1. Add Employee\n",
            "2. View All Employees\n",
            "3. Search for Employee\n",
            "4. Exit\n",
            "Enter your choice (1-4): 1\n",
            "Enter Employee ID: 104\n",
            "Enter Employee Name: Sachin\n",
            "Enter Employee Age: 24\n",
            "Enter Employee Department: data\n",
            "Enter Employee Monthly Salary: 75000\n",
            "Employee Sachin added successfully!\n",
            "\n",
            "--- Employee Management System ---\n",
            "1. Add Employee\n",
            "2. View All Employees\n",
            "3. Search for Employee\n",
            "4. Exit\n",
            "Enter your choice (1-4): 2\n",
            "\n",
            "--- Employee List ---\n",
            "ID        Name           Age       Department     Salary    \n",
            "------------------------------------------------------------\n",
            "101       Satya          27        HR             50000.00  \n",
            "102       Ravi           30        IT             60000.00  \n",
            "103       Anita          25        Finance        55000.00  \n",
            "104       Sachin         24        data           75000.00  \n",
            "\n",
            "--- Employee Management System ---\n",
            "1. Add Employee\n",
            "2. View All Employees\n",
            "3. Search for Employee\n",
            "4. Exit\n",
            "Enter your choice (1-4): 3\n",
            "Enter Employee ID to search: 102\n",
            "\n",
            "--- Employee Details ---\n",
            "Name: Ravi\n",
            "Age: 30\n",
            "Department: IT\n",
            "Salary: 60000\n",
            "\n",
            "--- Employee Management System ---\n",
            "1. Add Employee\n",
            "2. View All Employees\n",
            "3. Search for Employee\n",
            "4. Exit\n",
            "Enter your choice (1-4): 4\n",
            "Thank you for using the Employee Management System. Goodbye!\n"
          ]
        }
      ]
    },
    {
      "cell_type": "code",
      "source": [],
      "metadata": {
        "id": "YFZF0DWGyQB5"
      },
      "execution_count": null,
      "outputs": []
    },
    {
      "cell_type": "code",
      "source": [],
      "metadata": {
        "id": "vq_GqmZoyP_Z"
      },
      "execution_count": null,
      "outputs": []
    }
  ]
}