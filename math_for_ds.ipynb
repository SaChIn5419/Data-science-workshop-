{
  "nbformat": 4,
  "nbformat_minor": 0,
  "metadata": {
    "colab": {
      "provenance": [],
      "authorship_tag": "ABX9TyMVQGdTK3I4J+UAZpQbVA4U",
      "include_colab_link": true
    },
    "kernelspec": {
      "name": "python3",
      "display_name": "Python 3"
    },
    "language_info": {
      "name": "python"
    }
  },
  "cells": [
    {
      "cell_type": "markdown",
      "metadata": {
        "id": "view-in-github",
        "colab_type": "text"
      },
      "source": [
        "<a href=\"https://colab.research.google.com/github/SaChIn5419/Data-science-workshop-/blob/main/math_for_ds.ipynb\" target=\"_parent\"><img src=\"https://colab.research.google.com/assets/colab-badge.svg\" alt=\"Open In Colab\"/></a>"
      ]
    },
    {
      "cell_type": "code",
      "execution_count": 6,
      "metadata": {
        "colab": {
          "base_uri": "https://localhost:8080/"
        },
        "id": "c00sZRWEUHzl",
        "outputId": "55d00f2d-e074-46f5-b80e-c97b549d666e"
      },
      "outputs": [
        {
          "output_type": "stream",
          "name": "stdout",
          "text": [
            "Matrix A:\n",
            " [[1 2 3]\n",
            " [4 5 6]\n",
            " [7 8 9]]\n",
            "Vector B:\n",
            " [1 2 3]\n",
            "Matrix-Vector Product A x B:\n",
            " [14 32 50]\n",
            "Trace of Matrix A: 15\n",
            "Eigenvalues of Matrix A: [ 1.61168440e+01 -1.11684397e+00 -1.30367773e-15]\n",
            "Eigenvectors of Matrix A:\n",
            " [[-0.23197069 -0.78583024  0.40824829]\n",
            " [-0.52532209 -0.08675134 -0.81649658]\n",
            " [-0.8186735   0.61232756  0.40824829]]\n"
          ]
        }
      ],
      "source": [
        "import numpy as np\n",
        "\n",
        "# Define matrix A and vector B\n",
        "A = np.array([[1, 2, 3], [4, 5, 6], [7, 8, 9]])\n",
        "B = np.array([1, 2, 3])\n",
        "\n",
        "# 1. Matrix-Vector Multiplication\n",
        "matrix_vector_product = np.dot(A, B)\n",
        "\n",
        "# 2. Trace of matrix A\n",
        "trace_A = np.trace(A)\n",
        "\n",
        "# 3. Eigenvalues and Eigenvectors\n",
        "eigenvalues, eigenvectors = np.linalg.eig(A)\n",
        "\n",
        "# Outputs\n",
        "print(\"Matrix A:\\n\", A)\n",
        "print(\"Vector B:\\n\", B)\n",
        "print(\"Matrix-Vector Product A x B:\\n\", matrix_vector_product)\n",
        "print(\"Trace of Matrix A:\", trace_A)\n",
        "print(\"Eigenvalues of Matrix A:\", eigenvalues)\n",
        "print(\"Eigenvectors of Matrix A:\\n\", eigenvectors)\n"
      ]
    },
    {
      "cell_type": "code",
      "source": [
        "# Replace the last row of A\n",
        "A[2] = [10, 11, 12]\n",
        "\n",
        "# Compute determinant\n",
        "determinant_A = np.linalg.det(A)\n",
        "\n",
        "# Check singularity\n",
        "is_singular = np.isclose(determinant_A, 0)\n",
        "\n",
        "# Outputs\n",
        "print(\"Updated Matrix A:\\n\", A)\n",
        "print(\"Determinant of Updated A:\", determinant_A)\n",
        "print(\"Is Updated A Singular?\", \"Yes\" if is_singular else \"No\")\n"
      ],
      "metadata": {
        "colab": {
          "base_uri": "https://localhost:8080/"
        },
        "id": "lL2NmiDTULD8",
        "outputId": "57cb1ac8-78bf-4e66-a2c6-76b677b6b73f"
      },
      "execution_count": 7,
      "outputs": [
        {
          "output_type": "stream",
          "name": "stdout",
          "text": [
            "Updated Matrix A:\n",
            " [[ 1  2  3]\n",
            " [ 4  5  6]\n",
            " [10 11 12]]\n",
            "Determinant of Updated A: 0.0\n",
            "Is Updated A Singular? Yes\n"
          ]
        }
      ]
    },
    {
      "cell_type": "code",
      "source": [
        "# Check for invertibility\n",
        "if not is_singular:\n",
        "    inverse_A = np.linalg.inv(A)\n",
        "    print(\"Inverse of Updated A:\\n\", inverse_A)\n",
        "else:\n",
        "    print(\"Updated A is singular; no inverse exists.\")\n",
        "\n",
        "# Solve A * X = B\n",
        "if not is_singular:\n",
        "    X = np.linalg.solve(A, B)\n",
        "    print(\"Solution to A * X = B:\\n\", X)\n",
        "else:\n",
        "    print(\"Cannot solve A * X = B as A is singular.\")\n"
      ],
      "metadata": {
        "colab": {
          "base_uri": "https://localhost:8080/"
        },
        "id": "wrC2axZjULCX",
        "outputId": "77374a99-1195-4fa6-a9c2-9e4bebe4c4b9"
      },
      "execution_count": 8,
      "outputs": [
        {
          "output_type": "stream",
          "name": "stdout",
          "text": [
            "Updated A is singular; no inverse exists.\n",
            "Cannot solve A * X = B as A is singular.\n"
          ]
        }
      ]
    },
    {
      "cell_type": "code",
      "source": [
        "import numpy as np\n",
        "\n",
        "# Define updated matrix A and column vector B\n",
        "A = np.array([[1, 2, 3], [4, 5, 6], [10, 11, 12]])  # Updated A\n",
        "B = np.array([[1], [2], [3]])  # Column vector B\n",
        "\n",
        "# Check determinant\n",
        "determinant_A = np.linalg.det(A)\n",
        "is_singular = np.isclose(determinant_A, 0)\n",
        "\n",
        "if is_singular:\n",
        "    print(\"Updated A is singular; no inverse exists.\")\n",
        "    print(\"Cannot solve A * X = B as A is singular.\")\n",
        "else:\n",
        "    inverse_A = np.linalg.inv(A)\n",
        "    print(\"Inverse of Updated A:\\n\", inverse_A)\n",
        "\n",
        "    # Solve A * X = B\n",
        "    X = np.linalg.solve(A, B)\n",
        "    print(\"Solution to A * X = B:\\n\", X)\n",
        "\n",
        "# Alternative: Least Squares Solution\n",
        "X_least_squares = np.linalg.lstsq(A, B, rcond=None)[0]\n",
        "print(\"Least Squares Solution X:\\n\", X_least_squares)\n"
      ],
      "metadata": {
        "colab": {
          "base_uri": "https://localhost:8080/"
        },
        "id": "CHoaug1AW6s3",
        "outputId": "2f783e16-b696-47fb-a608-08343adc6c57"
      },
      "execution_count": 9,
      "outputs": [
        {
          "output_type": "stream",
          "name": "stdout",
          "text": [
            "Updated A is singular; no inverse exists.\n",
            "Cannot solve A * X = B as A is singular.\n",
            "Least Squares Solution X:\n",
            " [[-0.28571429]\n",
            " [ 0.07142857]\n",
            " [ 0.42857143]]\n"
          ]
        }
      ]
    },
    {
      "cell_type": "code",
      "source": [
        "# Generate random 4x4 matrix C\n",
        "C = np.random.randint(1, 21, size=(4, 4))\n",
        "\n",
        "# Compute rank\n",
        "rank_C = np.linalg.matrix_rank(C)\n",
        "\n",
        "# Extract submatrix\n",
        "submatrix = C[:2, -2:]\n",
        "\n",
        "# Compute Frobenius norm\n",
        "frobenius_norm = np.linalg.norm(C, 'fro')\n",
        "\n",
        "# Check matrix multiplication validity\n",
        "if A.shape[1] == C.shape[0]:\n",
        "    product = np.dot(A, C[:3, :3])  # Trim C if needed\n",
        "    print(\"Matrix Multiplication A x C:\\n\", product)\n",
        "else:\n",
        "    print(\"Matrix multiplication not valid. Adjusting dimensions of C.\")\n",
        "    C = C[:3, :3]\n",
        "\n",
        "# Outputs\n",
        "print(\"Matrix C:\\n\", C)\n",
        "print(\"Rank of C:\", rank_C)\n",
        "print(\"Submatrix (first 2 rows, last 2 columns):\\n\", submatrix)\n",
        "print(\"Frobenius Norm of C:\", frobenius_norm)\n"
      ],
      "metadata": {
        "colab": {
          "base_uri": "https://localhost:8080/"
        },
        "id": "vWvmCqfpULAy",
        "outputId": "ecb48e6e-3303-4d94-9b60-69faaf543b37"
      },
      "execution_count": 4,
      "outputs": [
        {
          "output_type": "stream",
          "name": "stdout",
          "text": [
            "Matrix multiplication not valid. Adjusting dimensions of C.\n",
            "Matrix C:\n",
            " [[16 14 20]\n",
            " [10 15 19]\n",
            " [12  6  3]]\n",
            "Rank of C: 4\n",
            "Submatrix (first 2 rows, last 2 columns):\n",
            " [[20  4]\n",
            " [19  4]]\n",
            "Frobenius Norm of C: 46.357307945997036\n"
          ]
        }
      ]
    },
    {
      "cell_type": "code",
      "source": [
        "# Dataset as a matrix\n",
        "D = np.array([[3, 5, 7, 9, 11],\n",
        "              [2, 4, 6, 8, 10],\n",
        "              [1, 3, 5, 7, 9],\n",
        "              [4, 6, 8, 10, 12],\n",
        "              [5, 7, 9, 11, 13]])\n",
        "\n",
        "# Standardize D\n",
        "mean = np.mean(D, axis=0)\n",
        "std_dev = np.std(D, axis=0)\n",
        "D_standardized = (D - mean) / std_dev\n",
        "\n",
        "# Covariance matrix\n",
        "cov_matrix = np.cov(D_standardized.T)\n",
        "\n",
        "# PCA: Eigenvalues and Eigenvectors\n",
        "eigenvalues, eigenvectors = np.linalg.eig(cov_matrix)\n",
        "\n",
        "# Reduce to 2 components\n",
        "D_pca = np.dot(D_standardized, eigenvectors[:, :2])\n",
        "\n",
        "# Outputs\n",
        "print(\"Standardized D:\\n\", D_standardized)\n",
        "print(\"Covariance Matrix:\\n\", cov_matrix)\n",
        "print(\"Eigenvalues:\\n\", eigenvalues)\n",
        "print(\"Eigenvectors:\\n\", eigenvectors)\n",
        "print(\"D reduced to 2 Principal Components:\\n\", D_pca)\n"
      ],
      "metadata": {
        "colab": {
          "base_uri": "https://localhost:8080/"
        },
        "id": "kXmkOVUCUK_Y",
        "outputId": "52a24fa9-b273-4d60-daf2-2e8e9eca2b97"
      },
      "execution_count": 5,
      "outputs": [
        {
          "output_type": "stream",
          "name": "stdout",
          "text": [
            "Standardized D:\n",
            " [[ 0.          0.          0.          0.          0.        ]\n",
            " [-0.70710678 -0.70710678 -0.70710678 -0.70710678 -0.70710678]\n",
            " [-1.41421356 -1.41421356 -1.41421356 -1.41421356 -1.41421356]\n",
            " [ 0.70710678  0.70710678  0.70710678  0.70710678  0.70710678]\n",
            " [ 1.41421356  1.41421356  1.41421356  1.41421356  1.41421356]]\n",
            "Covariance Matrix:\n",
            " [[1.25 1.25 1.25 1.25 1.25]\n",
            " [1.25 1.25 1.25 1.25 1.25]\n",
            " [1.25 1.25 1.25 1.25 1.25]\n",
            " [1.25 1.25 1.25 1.25 1.25]\n",
            " [1.25 1.25 1.25 1.25 1.25]]\n",
            "Eigenvalues:\n",
            " [0.   6.25 0.   0.   0.  ]\n",
            "Eigenvectors:\n",
            " [[-0.89442719  0.4472136   0.          0.          0.        ]\n",
            " [ 0.2236068   0.4472136  -0.5        -0.5        -0.5       ]\n",
            " [ 0.2236068   0.4472136   0.83333333 -0.16666667 -0.16666667]\n",
            " [ 0.2236068   0.4472136  -0.16666667  0.83333333 -0.16666667]\n",
            " [ 0.2236068   0.4472136  -0.16666667 -0.16666667  0.83333333]]\n",
            "D reduced to 2 Principal Components:\n",
            " [[ 0.00000000e+00  0.00000000e+00]\n",
            " [-2.11442546e-16 -1.58113883e+00]\n",
            " [-4.22885092e-16 -3.16227766e+00]\n",
            " [ 2.11442546e-16  1.58113883e+00]\n",
            " [ 4.22885092e-16  3.16227766e+00]]\n"
          ]
        }
      ]
    },
    {
      "cell_type": "code",
      "source": [],
      "metadata": {
        "id": "w40cfZypUKaq"
      },
      "execution_count": null,
      "outputs": []
    },
    {
      "cell_type": "code",
      "source": [],
      "metadata": {
        "id": "OOKHwmi3UKXv"
      },
      "execution_count": null,
      "outputs": []
    },
    {
      "cell_type": "code",
      "source": [],
      "metadata": {
        "id": "l0v6YWSdUKVY"
      },
      "execution_count": null,
      "outputs": []
    },
    {
      "cell_type": "code",
      "source": [],
      "metadata": {
        "id": "Zabz2AYIUKSx"
      },
      "execution_count": null,
      "outputs": []
    },
    {
      "cell_type": "code",
      "source": [],
      "metadata": {
        "id": "S8CVL7RUUKQs"
      },
      "execution_count": null,
      "outputs": []
    },
    {
      "cell_type": "code",
      "source": [],
      "metadata": {
        "id": "5RIBGLUnUKOV"
      },
      "execution_count": null,
      "outputs": []
    },
    {
      "cell_type": "code",
      "source": [],
      "metadata": {
        "id": "B89yZIgGUKLl"
      },
      "execution_count": null,
      "outputs": []
    },
    {
      "cell_type": "code",
      "source": [],
      "metadata": {
        "id": "3SdLWS0CUKJB"
      },
      "execution_count": null,
      "outputs": []
    },
    {
      "cell_type": "code",
      "source": [],
      "metadata": {
        "id": "wRCKNRCPUKGg"
      },
      "execution_count": null,
      "outputs": []
    },
    {
      "cell_type": "code",
      "source": [],
      "metadata": {
        "id": "mzinr9ibUKED"
      },
      "execution_count": null,
      "outputs": []
    }
  ]
}